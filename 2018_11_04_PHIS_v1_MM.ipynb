{
 "cells": [
  {
   "cell_type": "code",
   "execution_count": 1,
   "metadata": {
    "extensions": {
     "jupyter_dashboards": {
      "version": 1,
      "views": {
       "grid_default": {
        "col": 0,
        "height": 4,
        "hidden": false,
        "row": 0,
        "width": 4
       },
       "report_default": {
        "hidden": false
       }
      }
     }
    }
   },
   "outputs": [
    {
     "name": "stderr",
     "output_type": "stream",
     "text": [
      "/Users/mcmanus/anaconda3/lib/python3.6/site-packages/statsmodels/compat/pandas.py:56: FutureWarning: The pandas.core.datetools module is deprecated and will be removed in a future version. Please use the pandas.tseries module instead.\n",
      "  from pandas.core import datetools\n"
     ]
    },
    {
     "data": {
      "text/html": [
       "<style>.container { width:90% !important; }</style>"
      ],
      "text/plain": [
       "<IPython.core.display.HTML object>"
      ]
     },
     "execution_count": 1,
     "metadata": {},
     "output_type": "execute_result"
    }
   ],
   "source": [
    "%matplotlib inline\n",
    "import datetime as dt\n",
    "import pandas as pd\n",
    "import sys\n",
    "import csv\n",
    "import glob\n",
    "import ipywidgets #as widgets\n",
    "import itertools\n",
    "import numpy as np\n",
    "import matplotlib.pyplot as plt\n",
    "import datetime\n",
    "import seaborn as sns\n",
    "import socket\n",
    "\n",
    "from matplotlib import *\n",
    "from matplotlib.dates import YearLocator, MonthLocator, DateFormatter\n",
    "from matplotlib.dates import *\n",
    "#style.use('ggplot')\n",
    "from numpy.random import randn\n",
    "#from scipy import statss\n",
    "from pandas import  DataFrame, Series\n",
    "import statsmodels.api as sm\n",
    "\n",
    "sns.set()\n",
    "\n",
    "import warnings\n",
    "warnings.filterwarnings('ignore')\n",
    "\n",
    "from IPython.core.display import HTML\n",
    "HTML(\"<style>.container { width:90% !important; }</style>\")"
   ]
  },
  {
   "cell_type": "code",
   "execution_count": 2,
   "metadata": {
    "extensions": {
     "jupyter_dashboards": {
      "version": 1,
      "views": {
       "grid_default": {
        "col": 4,
        "height": 4,
        "hidden": false,
        "row": 0,
        "width": 4
       },
       "report_default": {
        "hidden": false
       }
      }
     }
    }
   },
   "outputs": [
    {
     "data": {
      "text/plain": [
       "'181119'"
      ]
     },
     "execution_count": 2,
     "metadata": {},
     "output_type": "execute_result"
    }
   ],
   "source": [
    "today = dt.datetime.today().strftime(\"%y%m%d\")\n",
    "today"
   ]
  },
  {
   "cell_type": "markdown",
   "metadata": {
    "extensions": {
     "jupyter_dashboards": {
      "version": 1,
      "views": {
       "grid_default": {
        "col": 0,
        "height": 4,
        "hidden": false,
        "row": 4,
        "width": 4
       },
       "report_default": {
        "hidden": false
       }
      }
     }
    }
   },
   "source": [
    "# Check PHIS files\n",
    "\n",
    "### Filenames (addressdata correspond to the folder where you have the csv files. If they are on a the same folder, on a subfolder called `Data`, you could just use `./Data/`)"
   ]
  },
  {
   "cell_type": "code",
   "execution_count": 4,
   "metadata": {},
   "outputs": [],
   "source": [
    "#addressdata = \"/Volumes/MCMANUS/Data\"\n",
    "addressdata = \"./Data/\""
   ]
  },
  {
   "cell_type": "markdown",
   "metadata": {},
   "source": [
    "This will show you the files on addressdata"
   ]
  },
  {
   "cell_type": "code",
   "execution_count": 5,
   "metadata": {
    "extensions": {
     "jupyter_dashboards": {
      "version": 1,
      "views": {
       "grid_default": {
        "col": 4,
        "height": 7,
        "hidden": false,
        "row": 4,
        "width": 4
       },
       "report_default": {
        "hidden": false
       }
      }
     }
    }
   },
   "outputs": [
    {
     "data": {
      "text/plain": [
       "['2016_APRDRGandCaseMixWeights.csv',\n",
       " '2016_CPT.csv',\n",
       " '2016_ClinicalSummary.csv',\n",
       " '2016_DailyCensus.csv',\n",
       " '2016_Diagnosis.csv',\n",
       " '2016_ImagingSummary.csv',\n",
       " '2016_PatientAbstract.csv',\n",
       " '2016_Procedure.csv',\n",
       " '2016_RCCBasedCost.csv',\n",
       " '2016_Readmit.csv',\n",
       " '2017_APRDRGandCaseMixWeights.csv',\n",
       " '2017_CPT.csv',\n",
       " '2017_ClinicalSummary.csv',\n",
       " '2017_DailyCensus.csv',\n",
       " '2017_Diagnosis.csv',\n",
       " '2017_ImagingSummary.csv',\n",
       " '2017_PatientAbstract.csv',\n",
       " '2017_Procedure.csv',\n",
       " '2017_RCCBasedCost.csv',\n",
       " '2017_Readmit.csv']"
      ]
     },
     "execution_count": 5,
     "metadata": {},
     "output_type": "execute_result"
    }
   ],
   "source": [
    "filenames = glob.glob(addressdata+'*')\n",
    "filenames = sorted([os.path.basename(x) for x in filenames])\n",
    "filenames"
   ]
  },
  {
   "cell_type": "markdown",
   "metadata": {
    "extensions": {
     "jupyter_dashboards": {
      "version": 1,
      "views": {
       "grid_default": {
        "col": 8,
        "height": 4,
        "hidden": false,
        "row": 4,
        "width": 4
       },
       "report_default": {
        "hidden": false
       }
      }
     }
    }
   },
   "source": [
    "The main files are `2016_PatientAbstract.csv` and `2017_PatientAbstract.csv`. You can read either of them by changing `year` or, if you want to check both, by creating two different dataframes and read them the same way: `phis_2016` and `phis_2017`, for instance. "
   ]
  },
  {
   "cell_type": "code",
   "execution_count": 6,
   "metadata": {
    "extensions": {
     "jupyter_dashboards": {
      "version": 1,
      "views": {
       "grid_default": {
        "hidden": true
       },
       "report_default": {
        "hidden": true
       }
      }
     }
    }
   },
   "outputs": [],
   "source": [
    "year = '2017'\n",
    "filename = year+'_PatientAbstract.csv'\n",
    "phis = pd.read_csv(addressdata+filename, dtype=object)\n"
   ]
  },
  {
   "cell_type": "code",
   "execution_count": 7,
   "metadata": {
    "extensions": {
     "jupyter_dashboards": {
      "version": 1,
      "views": {
       "grid_default": {
        "col": 0,
        "height": 12,
        "hidden": false,
        "row": 11,
        "width": 12
       },
       "report_default": {
        "hidden": false
       }
      }
     }
    }
   },
   "outputs": [
    {
     "name": "stdout",
     "output_type": "stream",
     "text": [
      "2017_PatientAbstract.csv\n"
     ]
    },
    {
     "data": {
      "text/html": [
       "<div>\n",
       "<style scoped>\n",
       "    .dataframe tbody tr th:only-of-type {\n",
       "        vertical-align: middle;\n",
       "    }\n",
       "\n",
       "    .dataframe tbody tr th {\n",
       "        vertical-align: top;\n",
       "    }\n",
       "\n",
       "    .dataframe thead th {\n",
       "        text-align: right;\n",
       "    }\n",
       "</style>\n",
       "<table border=\"1\" class=\"dataframe\">\n",
       "  <thead>\n",
       "    <tr style=\"text-align: right;\">\n",
       "      <th></th>\n",
       "      <th>Hospital_Number</th>\n",
       "      <th>Hospital_City</th>\n",
       "      <th>Hospital_Name</th>\n",
       "      <th>Campus_Name</th>\n",
       "      <th>Medical_Record_Number</th>\n",
       "      <th>Discharge_ID</th>\n",
       "      <th>Billing_Number</th>\n",
       "      <th>Patient_Type</th>\n",
       "      <th>Patient_Type_Title</th>\n",
       "      <th>Admit_Age_In_Days</th>\n",
       "      <th>...</th>\n",
       "      <th>Prin_Dx_Mental_Health_Disorder_Flag</th>\n",
       "      <th>Secondary_Dx_Mental_Health_Disorder_Flag</th>\n",
       "      <th>Prin_Dx_Mental_Health_Disorder_Group</th>\n",
       "      <th>Prin_Dx_Mental_Health_Disorder_Group_Title</th>\n",
       "      <th>Clinical_Standardized_Costs</th>\n",
       "      <th>Imaging_Standardized_Costs</th>\n",
       "      <th>Lab_Standardized_Costs</th>\n",
       "      <th>Other_Standardized_Costs</th>\n",
       "      <th>Pharmacy_Standardized_Costs</th>\n",
       "      <th>Supply_Standardized_Costs</th>\n",
       "    </tr>\n",
       "  </thead>\n",
       "  <tbody>\n",
       "    <tr>\n",
       "      <th>0</th>\n",
       "      <td>2011</td>\n",
       "      <td>Birmingham</td>\n",
       "      <td>Children’s of Alabama</td>\n",
       "      <td>NaN</td>\n",
       "      <td>12027972011</td>\n",
       "      <td>146745796</td>\n",
       "      <td>8424147</td>\n",
       "      <td>4</td>\n",
       "      <td>Clinic Visit</td>\n",
       "      <td>4868</td>\n",
       "      <td>...</td>\n",
       "      <td>N</td>\n",
       "      <td>N</td>\n",
       "      <td>0</td>\n",
       "      <td>Not a Mental Health Condition</td>\n",
       "      <td>568.907401891200</td>\n",
       "      <td>0.000000000000</td>\n",
       "      <td>0.000000000000</td>\n",
       "      <td>0.000000000000</td>\n",
       "      <td>0.000000000000</td>\n",
       "      <td>0.000000000000</td>\n",
       "    </tr>\n",
       "    <tr>\n",
       "      <th>1</th>\n",
       "      <td>2011</td>\n",
       "      <td>Birmingham</td>\n",
       "      <td>Children’s of Alabama</td>\n",
       "      <td>NaN</td>\n",
       "      <td>14360602011</td>\n",
       "      <td>146731436</td>\n",
       "      <td>8439043</td>\n",
       "      <td>4</td>\n",
       "      <td>Clinic Visit</td>\n",
       "      <td>2410</td>\n",
       "      <td>...</td>\n",
       "      <td>N</td>\n",
       "      <td>N</td>\n",
       "      <td>0</td>\n",
       "      <td>Not a Mental Health Condition</td>\n",
       "      <td>241.502807083950</td>\n",
       "      <td>0.000000000000</td>\n",
       "      <td>0.000000000000</td>\n",
       "      <td>0.000000000000</td>\n",
       "      <td>0.000000000000</td>\n",
       "      <td>0.000000000000</td>\n",
       "    </tr>\n",
       "    <tr>\n",
       "      <th>2</th>\n",
       "      <td>2011</td>\n",
       "      <td>Birmingham</td>\n",
       "      <td>Children’s of Alabama</td>\n",
       "      <td>NaN</td>\n",
       "      <td>10605382011</td>\n",
       "      <td>146747016</td>\n",
       "      <td>8446032</td>\n",
       "      <td>4</td>\n",
       "      <td>Clinic Visit</td>\n",
       "      <td>6509</td>\n",
       "      <td>...</td>\n",
       "      <td>N</td>\n",
       "      <td>N</td>\n",
       "      <td>0</td>\n",
       "      <td>Not a Mental Health Condition</td>\n",
       "      <td>99.613973289111</td>\n",
       "      <td>0.000000000000</td>\n",
       "      <td>0.000000000000</td>\n",
       "      <td>0.000000000000</td>\n",
       "      <td>0.000000000000</td>\n",
       "      <td>0.000000000000</td>\n",
       "    </tr>\n",
       "    <tr>\n",
       "      <th>3</th>\n",
       "      <td>2011</td>\n",
       "      <td>Birmingham</td>\n",
       "      <td>Children’s of Alabama</td>\n",
       "      <td>NaN</td>\n",
       "      <td>15018892011</td>\n",
       "      <td>146725527</td>\n",
       "      <td>8455292</td>\n",
       "      <td>4</td>\n",
       "      <td>Clinic Visit</td>\n",
       "      <td>1856</td>\n",
       "      <td>...</td>\n",
       "      <td>N</td>\n",
       "      <td>N</td>\n",
       "      <td>0</td>\n",
       "      <td>Not a Mental Health Condition</td>\n",
       "      <td>339.941802413300</td>\n",
       "      <td>0.000000000000</td>\n",
       "      <td>0.000000000000</td>\n",
       "      <td>0.000000000000</td>\n",
       "      <td>0.000000000000</td>\n",
       "      <td>0.000000000000</td>\n",
       "    </tr>\n",
       "    <tr>\n",
       "      <th>4</th>\n",
       "      <td>2011</td>\n",
       "      <td>Birmingham</td>\n",
       "      <td>Children’s of Alabama</td>\n",
       "      <td>NaN</td>\n",
       "      <td>13540082011</td>\n",
       "      <td>146729501</td>\n",
       "      <td>8459890</td>\n",
       "      <td>4</td>\n",
       "      <td>Clinic Visit</td>\n",
       "      <td>3594</td>\n",
       "      <td>...</td>\n",
       "      <td>N</td>\n",
       "      <td>N</td>\n",
       "      <td>0</td>\n",
       "      <td>Not a Mental Health Condition</td>\n",
       "      <td>262.026233612800</td>\n",
       "      <td>0.000000000000</td>\n",
       "      <td>0.000000000000</td>\n",
       "      <td>0.000000000000</td>\n",
       "      <td>0.000000000000</td>\n",
       "      <td>0.000000000000</td>\n",
       "    </tr>\n",
       "  </tbody>\n",
       "</table>\n",
       "<p>5 rows × 129 columns</p>\n",
       "</div>"
      ],
      "text/plain": [
       "  Hospital_Number Hospital_City          Hospital_Name Campus_Name  \\\n",
       "0            2011    Birmingham  Children’s of Alabama         NaN   \n",
       "1            2011    Birmingham  Children’s of Alabama         NaN   \n",
       "2            2011    Birmingham  Children’s of Alabama         NaN   \n",
       "3            2011    Birmingham  Children’s of Alabama         NaN   \n",
       "4            2011    Birmingham  Children’s of Alabama         NaN   \n",
       "\n",
       "  Medical_Record_Number Discharge_ID Billing_Number Patient_Type  \\\n",
       "0           12027972011    146745796        8424147            4   \n",
       "1           14360602011    146731436        8439043            4   \n",
       "2           10605382011    146747016        8446032            4   \n",
       "3           15018892011    146725527        8455292            4   \n",
       "4           13540082011    146729501        8459890            4   \n",
       "\n",
       "  Patient_Type_Title Admit_Age_In_Days            ...             \\\n",
       "0       Clinic Visit              4868            ...              \n",
       "1       Clinic Visit              2410            ...              \n",
       "2       Clinic Visit              6509            ...              \n",
       "3       Clinic Visit              1856            ...              \n",
       "4       Clinic Visit              3594            ...              \n",
       "\n",
       "  Prin_Dx_Mental_Health_Disorder_Flag  \\\n",
       "0                                   N   \n",
       "1                                   N   \n",
       "2                                   N   \n",
       "3                                   N   \n",
       "4                                   N   \n",
       "\n",
       "  Secondary_Dx_Mental_Health_Disorder_Flag  \\\n",
       "0                                        N   \n",
       "1                                        N   \n",
       "2                                        N   \n",
       "3                                        N   \n",
       "4                                        N   \n",
       "\n",
       "  Prin_Dx_Mental_Health_Disorder_Group  \\\n",
       "0                                    0   \n",
       "1                                    0   \n",
       "2                                    0   \n",
       "3                                    0   \n",
       "4                                    0   \n",
       "\n",
       "  Prin_Dx_Mental_Health_Disorder_Group_Title Clinical_Standardized_Costs  \\\n",
       "0              Not a Mental Health Condition            568.907401891200   \n",
       "1              Not a Mental Health Condition            241.502807083950   \n",
       "2              Not a Mental Health Condition             99.613973289111   \n",
       "3              Not a Mental Health Condition            339.941802413300   \n",
       "4              Not a Mental Health Condition            262.026233612800   \n",
       "\n",
       "  Imaging_Standardized_Costs Lab_Standardized_Costs Other_Standardized_Costs  \\\n",
       "0             0.000000000000         0.000000000000           0.000000000000   \n",
       "1             0.000000000000         0.000000000000           0.000000000000   \n",
       "2             0.000000000000         0.000000000000           0.000000000000   \n",
       "3             0.000000000000         0.000000000000           0.000000000000   \n",
       "4             0.000000000000         0.000000000000           0.000000000000   \n",
       "\n",
       "  Pharmacy_Standardized_Costs Supply_Standardized_Costs  \n",
       "0              0.000000000000            0.000000000000  \n",
       "1              0.000000000000            0.000000000000  \n",
       "2              0.000000000000            0.000000000000  \n",
       "3              0.000000000000            0.000000000000  \n",
       "4              0.000000000000            0.000000000000  \n",
       "\n",
       "[5 rows x 129 columns]"
      ]
     },
     "execution_count": 7,
     "metadata": {},
     "output_type": "execute_result"
    }
   ],
   "source": [
    "print(filename)\n",
    "phis.head()"
   ]
  },
  {
   "cell_type": "code",
   "execution_count": 8,
   "metadata": {},
   "outputs": [
    {
     "data": {
      "text/plain": [
       "array(['Boston Children’s Hospital'], dtype=object)"
      ]
     },
     "execution_count": 8,
     "metadata": {},
     "output_type": "execute_result"
    }
   ],
   "source": [
    "phis[phis.Hospital_City == 'Boston'].Hospital_Name.unique()"
   ]
  },
  {
   "cell_type": "code",
   "execution_count": 9,
   "metadata": {},
   "outputs": [
    {
     "data": {
      "text/plain": [
       "[\"Advocate Children's Hospital\",\n",
       " 'Akron Children’s Hospital',\n",
       " \"Ann & Robert H. Lurie Children's Hospital of Chicago\",\n",
       " \"Arkansas Children's Hospital\",\n",
       " 'Boston Children’s Hospital',\n",
       " \"C.S. Mott Children's Hospital University of Michigan Health System\",\n",
       " \"Children's Health Dallas\",\n",
       " \"Children's Healthcare of Atlanta\",\n",
       " \"Children's Hospital Los Angeles\",\n",
       " \"Children's Hospital of Orange County\",\n",
       " \"Children's Hospital of Philadelphia\",\n",
       " \"Children's Hospital of Wisconsin\",\n",
       " \"Children's Memorial Hermann Hospital\",\n",
       " 'Children’s Hospital & Medical Center',\n",
       " 'Children’s Hospital Colorado',\n",
       " 'Children’s Hospital of The King’s Daughters',\n",
       " 'Children’s Hospitals and Clinics of Minnesota',\n",
       " 'Children’s Mercy Kansas City',\n",
       " 'Children’s National Health System',\n",
       " 'Children’s of Alabama',\n",
       " \"Cincinnati Children's Hospital Medical Center\",\n",
       " \"Comer Children's Hospital\",\n",
       " \"Connecticut Children's Medical Center\",\n",
       " 'Cook Children’s Medical Center',\n",
       " \"Dell Children's Medical Center of Central Texas\",\n",
       " \"Driscoll Children's Hospital\",\n",
       " \"East Tennessee Children's Hospital\",\n",
       " \"John R. Oishei Children's Hospital\",\n",
       " \"Johns Hopkins All Children's Hospital\",\n",
       " \"Le Bonheur Children's Hospital\",\n",
       " \"Loma Linda University Children's Hospital\",\n",
       " \"Lucile Packard Children's Hospital Stanford\",\n",
       " \"MUSC Children's Hospital\",\n",
       " \"Miller Children's & Women's Hospital Long Beach\",\n",
       " \"Monroe Carell Jr. Children's Hospital at Vanderbilt\",\n",
       " 'Nationwide Children’s Hospital',\n",
       " 'NewYork-Presbyterian',\n",
       " \"Nicklaus Children's Hospital\",\n",
       " 'Norton Children’s Hospital',\n",
       " \"Phoenix Children's Hospital\",\n",
       " \"Rady Children's Hospital San Diego\",\n",
       " 'Riley Hospital for Children at Indiana University Health',\n",
       " 'Seattle Children’s',\n",
       " \"St. Louis Children's Hospital\",\n",
       " \"Texas Children's Hospital\",\n",
       " \"UCSF Benioff Children's Hospital Oakland\",\n",
       " \"UH Rainbow Babies & Children's Hospital\",\n",
       " 'UPMC Children’s Hospital of Pittsburgh',\n",
       " 'Valley Children’s Healthcare',\n",
       " \"Yale-New Haven Children's Hospital\"]"
      ]
     },
     "execution_count": 9,
     "metadata": {},
     "output_type": "execute_result"
    }
   ],
   "source": [
    "sorted(list(phis.Hospital_Name.unique()))"
   ]
  },
  {
   "cell_type": "code",
   "execution_count": 10,
   "metadata": {},
   "outputs": [
    {
     "data": {
      "text/plain": [
       "The patient presents to this facility with an order from a physician for services or seeks scheduled services for which an order is not required (e.g., mammography). Includes non-emergent self referrals.    1321020\n",
       "The patient was referred to this facility for outpatient or referenced diagnostic services.                                                                                                                    1014657\n",
       "The patient was admitted to this facility upon an order of a physician.                                                                                                                                         360030\n",
       "The means by which the patient was referred to this hospital’s outpatient department is not known.                                                                                                              311875\n",
       "The patient was admitted to this facility as a hospital transfer from an acute care facility where he or she was an inpatient or an outpatient.                                                                 117542\n",
       "The patient was admitted to this facility as a transfer from a freestanding or non-freestanding clinic.                                                                                                          73739\n",
       "A baby born inside this Hospital                                                                                                                                                                                 42673\n",
       "The patient was referred to this facility for outpatient or referenced diagnostic services from an ambulatory surgery center.                                                                                    38043\n",
       "The means by which the patient was admitted to this facility is not known.                                                                                                                                       33798\n",
       "The patient was transferred to this facility as an outpatient from an acute care facility                                                                                                                        29158\n",
       "The patient was admitted to this facility as a transfer from another type of health care facility not defined elsewhere in this code list.                                                                       15417\n",
       "The patient was admitted to this facility as a transfer from a SNF or ICF where he or she was a resident.                                                                                                         8855\n",
       "The patient was referred to this facility for outpatient or referenced diagnostic services from a SNF or ICF where he or she was a resident.                                                                      5370\n",
       "The patient was admitted to this facility as a transfer from hospital inpatient within this hospital resulting in a separate claim to the payer.                                                                  3221\n",
       "The patient was admitted to this facility as a transfer from an ambulatory surgery center.                                                                                                                        2666\n",
       "The patient was referred to this facility for services by (a physician of) another health care facility not defined elsewhere in this code list where he or she was an inpatient or outpatient.                   1795\n",
       "A baby born outside of this Hospital                                                                                                                                                                              1330\n",
       "The patient was admitted to this facility upon the direction of a court of law, or upon the request of a law enforcement agency representative.                                                                    512\n",
       "Unknown                                                                                                                                                                                                            377\n",
       "The patient received outpatient services in this facility as a transfer from within this hospital resulting in a separate claim to the payer.                                                                      126\n",
       "The patient was referred to this facility upon the direction of a court of law, or upon the request of a law enforcement agency representative for outpatient or referenced diagnostic services.                    98\n",
       "The means by which the patient was referred to this hospital's outpatient department is not known.                                                                                                                  26\n",
       "The means by which the patient was referred to this hospital?s outpatient department is not known.                                                                                                                  24\n",
       "The patient was admitted to this facility as a transfer from hospice.                                                                                                                                               15\n",
       "The patient was referred to this facility for outpatient or referenced diagnostic services from a hospice.                                                                                                           9\n",
       "Undefined                                                                                                                                                                                                            5\n",
       "The patient was admitted to this Home Health Agency as a transfer from another Home Health Agency                                                                                                                    1\n",
       "The patient was admitted to this facility after receiving services in this facility’s emergency room department.                                                                                                     1\n",
       "Name: Source_Of_Admission_Title, dtype: int64"
      ]
     },
     "execution_count": 10,
     "metadata": {},
     "output_type": "execute_result"
    }
   ],
   "source": [
    "phis.Source_Of_Admission_Title.value_counts()"
   ]
  },
  {
   "cell_type": "code",
   "execution_count": 11,
   "metadata": {
    "extensions": {
     "jupyter_dashboards": {
      "version": 1,
      "views": {
       "grid_default": {
        "col": 0,
        "height": 12,
        "hidden": false,
        "row": 23,
        "width": 4
       },
       "report_default": {
        "hidden": false
       }
      }
     }
    },
    "scrolled": false
   },
   "outputs": [
    {
     "data": {
      "text/plain": [
       "['Hospital_Number',\n",
       " 'Hospital_City',\n",
       " 'Hospital_Name',\n",
       " 'Campus_Name',\n",
       " 'Medical_Record_Number',\n",
       " 'Discharge_ID',\n",
       " 'Billing_Number',\n",
       " 'Patient_Type',\n",
       " 'Patient_Type_Title',\n",
       " 'Admit_Age_In_Days',\n",
       " 'Admit_Age_In_Years',\n",
       " 'Birthweight_Grams',\n",
       " 'Birth_Weight_Indicator',\n",
       " 'Birth_Weight_Indicator_Title',\n",
       " 'Gestational_Age_In_Weeks',\n",
       " 'DOB',\n",
       " 'Gender',\n",
       " 'Gender_Title',\n",
       " 'Ethnicity',\n",
       " 'Ethnicity_Title',\n",
       " 'CTC_Flag',\n",
       " 'Race-White',\n",
       " 'Race-Black',\n",
       " 'Race-Asian',\n",
       " 'Race-Pacific_Islander',\n",
       " 'Race-American_Indian',\n",
       " 'Race-Other',\n",
       " 'Race-Version_1',\n",
       " 'Race_Title-Version_1',\n",
       " 'Length_Of_Stay',\n",
       " 'Disposition',\n",
       " 'Disposition_Title',\n",
       " 'Disposition-Version_1',\n",
       " 'Disposition_Title-Version_1',\n",
       " 'ED_Charge_Flag',\n",
       " 'NICU_Flag',\n",
       " 'ICU_Flag',\n",
       " 'Mechanical_Vent_Flag',\n",
       " 'ECMO_Flag',\n",
       " 'TPN_Flag',\n",
       " 'Operating_Room_Charge_Flag',\n",
       " 'Infection_Flag',\n",
       " 'Medical_Complication_Flag',\n",
       " 'Surgical_Complication_Flag',\n",
       " 'Version_1_Flag',\n",
       " 'Priority_Of_Admission',\n",
       " 'Priority_Of_Admission_Title',\n",
       " 'Priority_Of_Admission-V1',\n",
       " 'Priority_Of_Admission_Title-V1',\n",
       " 'Source_Of_Admission',\n",
       " 'Source_Of_Admission_Title',\n",
       " 'Source_Of_Admission-Digit_1',\n",
       " 'Source_Of_Admission-Digit_ 2',\n",
       " 'Source_Of_Admission-Version_1',\n",
       " 'Admit_Date',\n",
       " 'Discharge_Date',\n",
       " 'Discharge_Year',\n",
       " 'Discharge_Quarter',\n",
       " 'Discharge_Month',\n",
       " 'Principal_Dx_(ICD)',\n",
       " 'Principal_Dx_Title_(ICD)',\n",
       " 'Principal_Dx_Present_On_Admit',\n",
       " 'Principal_Dx_POA_Admit_Title',\n",
       " 'Principal_Px_(ICD)',\n",
       " 'Principal_Px_Title_(ICD)',\n",
       " 'Operative_Prin_Px_Flag_(ICD)',\n",
       " 'Pre_Operative_LOS',\n",
       " 'Post_Operative_LOS',\n",
       " 'Admit_Dx_(ICD)',\n",
       " 'Admit_Dx_Title_(ICD)',\n",
       " 'Cardiovascular_Flag',\n",
       " 'Gastrointestinal_Flag',\n",
       " 'Hematologic_or_Immunologic_Flag',\n",
       " 'Malignancy_Flag',\n",
       " 'Metabolic_Flag',\n",
       " 'Neurologic_and_Neuromuscular_Flag',\n",
       " 'Congenital_or_Genetic_Defect_Flg',\n",
       " 'Renal_and_Urologic_Flag',\n",
       " 'Respiratory_Flag',\n",
       " 'Primary_Source_Of_Payment',\n",
       " 'Primary_Source_Of_Payment_Title',\n",
       " 'Principal_Payer-Version_1',\n",
       " 'Principal_Payer_Title-V1',\n",
       " 'Census_Division',\n",
       " 'Census_Region',\n",
       " 'Premature_And_Neonatal_Flag',\n",
       " 'Technology_Dependent_Flag',\n",
       " 'Transplant_Flag',\n",
       " 'Complex_Chronic_Condition_Flag',\n",
       " 'Zip_Code',\n",
       " 'Urban_Flag',\n",
       " 'Median_Household_Income',\n",
       " 'Predicted_Median_Household_Income',\n",
       " 'Rural-Urban_Commuting_Area_Code',\n",
       " 'Discharge_Mortality_Flag',\n",
       " 'RACHS_Score',\n",
       " 'Abstract_Based_Charges',\n",
       " 'Billed_Charges',\n",
       " 'Clinical_Charges',\n",
       " 'Imaging_Charges',\n",
       " 'Lab_Charges',\n",
       " 'Other_Charges',\n",
       " 'Pharmacy_Charges',\n",
       " 'Supply_Charges',\n",
       " 'Unmapped_Charges',\n",
       " 'Estimated_Cost',\n",
       " 'Adj_Abstract_Based_Charges',\n",
       " 'Adj_Billed_Charges',\n",
       " 'Adj_Clinical_Charges',\n",
       " 'Adj_Imaging_Charges',\n",
       " 'Adj_Lab_Charges',\n",
       " 'Adj_Other_Charges',\n",
       " 'Adj_Pharmacy_Charges',\n",
       " 'Adj_Supply_Charges',\n",
       " 'Adj_Unmapped_Charges',\n",
       " 'Adj_Est_Cost',\n",
       " 'PMCA_Category',\n",
       " 'PMCA_Category_Title',\n",
       " 'Mental_Health_Disorder_Flag',\n",
       " 'Prin_Dx_Mental_Health_Disorder_Flag',\n",
       " 'Secondary_Dx_Mental_Health_Disorder_Flag',\n",
       " 'Prin_Dx_Mental_Health_Disorder_Group',\n",
       " 'Prin_Dx_Mental_Health_Disorder_Group_Title',\n",
       " 'Clinical_Standardized_Costs',\n",
       " 'Imaging_Standardized_Costs',\n",
       " 'Lab_Standardized_Costs',\n",
       " 'Other_Standardized_Costs',\n",
       " 'Pharmacy_Standardized_Costs',\n",
       " 'Supply_Standardized_Costs']"
      ]
     },
     "execution_count": 11,
     "metadata": {},
     "output_type": "execute_result"
    }
   ],
   "source": [
    "list(phis.columns)"
   ]
  },
  {
   "cell_type": "code",
   "execution_count": 12,
   "metadata": {
    "extensions": {
     "jupyter_dashboards": {
      "version": 1,
      "views": {
       "grid_default": {
        "col": 4,
        "height": 22,
        "hidden": false,
        "row": 23,
        "width": 5
       },
       "report_default": {
        "hidden": false
       }
      }
     }
    }
   },
   "outputs": [
    {
     "data": {
      "text/html": [
       "<div>\n",
       "<style scoped>\n",
       "    .dataframe tbody tr th:only-of-type {\n",
       "        vertical-align: middle;\n",
       "    }\n",
       "\n",
       "    .dataframe tbody tr th {\n",
       "        vertical-align: top;\n",
       "    }\n",
       "\n",
       "    .dataframe thead th {\n",
       "        text-align: right;\n",
       "    }\n",
       "</style>\n",
       "<table border=\"1\" class=\"dataframe\">\n",
       "  <thead>\n",
       "    <tr style=\"text-align: right;\">\n",
       "      <th></th>\n",
       "      <th>Admit_Age_In_Days</th>\n",
       "      <th>Admit_Age_In_Years</th>\n",
       "    </tr>\n",
       "  </thead>\n",
       "  <tbody>\n",
       "    <tr>\n",
       "      <th>1230266</th>\n",
       "      <td>3299</td>\n",
       "      <td>9</td>\n",
       "    </tr>\n",
       "    <tr>\n",
       "      <th>324020</th>\n",
       "      <td>640</td>\n",
       "      <td>1</td>\n",
       "    </tr>\n",
       "    <tr>\n",
       "      <th>1286055</th>\n",
       "      <td>645</td>\n",
       "      <td>1</td>\n",
       "    </tr>\n",
       "    <tr>\n",
       "      <th>1027562</th>\n",
       "      <td>314</td>\n",
       "      <td>0</td>\n",
       "    </tr>\n",
       "    <tr>\n",
       "      <th>3029900</th>\n",
       "      <td>5439</td>\n",
       "      <td>14</td>\n",
       "    </tr>\n",
       "    <tr>\n",
       "      <th>1806462</th>\n",
       "      <td>5834</td>\n",
       "      <td>15</td>\n",
       "    </tr>\n",
       "    <tr>\n",
       "      <th>2739810</th>\n",
       "      <td>5132</td>\n",
       "      <td>14</td>\n",
       "    </tr>\n",
       "    <tr>\n",
       "      <th>1455247</th>\n",
       "      <td>18</td>\n",
       "      <td>0</td>\n",
       "    </tr>\n",
       "    <tr>\n",
       "      <th>57284</th>\n",
       "      <td>1545</td>\n",
       "      <td>4</td>\n",
       "    </tr>\n",
       "    <tr>\n",
       "      <th>292986</th>\n",
       "      <td>1553</td>\n",
       "      <td>4</td>\n",
       "    </tr>\n",
       "    <tr>\n",
       "      <th>2408755</th>\n",
       "      <td>1883</td>\n",
       "      <td>5</td>\n",
       "    </tr>\n",
       "    <tr>\n",
       "      <th>3066285</th>\n",
       "      <td>279</td>\n",
       "      <td>0</td>\n",
       "    </tr>\n",
       "    <tr>\n",
       "      <th>3140001</th>\n",
       "      <td>26656</td>\n",
       "      <td>72</td>\n",
       "    </tr>\n",
       "    <tr>\n",
       "      <th>281386</th>\n",
       "      <td>4424</td>\n",
       "      <td>12</td>\n",
       "    </tr>\n",
       "    <tr>\n",
       "      <th>3234544</th>\n",
       "      <td>5277</td>\n",
       "      <td>14</td>\n",
       "    </tr>\n",
       "    <tr>\n",
       "      <th>397252</th>\n",
       "      <td>6383</td>\n",
       "      <td>17</td>\n",
       "    </tr>\n",
       "    <tr>\n",
       "      <th>1473984</th>\n",
       "      <td>777</td>\n",
       "      <td>2</td>\n",
       "    </tr>\n",
       "    <tr>\n",
       "      <th>2903480</th>\n",
       "      <td>5154</td>\n",
       "      <td>14</td>\n",
       "    </tr>\n",
       "    <tr>\n",
       "      <th>1678635</th>\n",
       "      <td>7835</td>\n",
       "      <td>21</td>\n",
       "    </tr>\n",
       "    <tr>\n",
       "      <th>717874</th>\n",
       "      <td>4230</td>\n",
       "      <td>11</td>\n",
       "    </tr>\n",
       "  </tbody>\n",
       "</table>\n",
       "</div>"
      ],
      "text/plain": [
       "        Admit_Age_In_Days Admit_Age_In_Years\n",
       "1230266              3299                  9\n",
       "324020                640                  1\n",
       "1286055               645                  1\n",
       "1027562               314                  0\n",
       "3029900              5439                 14\n",
       "1806462              5834                 15\n",
       "2739810              5132                 14\n",
       "1455247                18                  0\n",
       "57284                1545                  4\n",
       "292986               1553                  4\n",
       "2408755              1883                  5\n",
       "3066285               279                  0\n",
       "3140001             26656                 72\n",
       "281386               4424                 12\n",
       "3234544              5277                 14\n",
       "397252               6383                 17\n",
       "1473984               777                  2\n",
       "2903480              5154                 14\n",
       "1678635              7835                 21\n",
       "717874               4230                 11"
      ]
     },
     "execution_count": 12,
     "metadata": {},
     "output_type": "execute_result"
    }
   ],
   "source": [
    "phis[['Admit_Age_In_Days', 'Admit_Age_In_Years']].sample(20)"
   ]
  },
  {
   "cell_type": "code",
   "execution_count": 13,
   "metadata": {},
   "outputs": [
    {
     "data": {
      "text/plain": [
       "<matplotlib.axes._subplots.AxesSubplot at 0x1c42aad208>"
      ]
     },
     "execution_count": 13,
     "metadata": {},
     "output_type": "execute_result"
    },
    {
     "data": {
      "image/png": "[encoded data removed]",
      "text/plain": [
       "<matplotlib.figure.Figure at 0x1cfbc19c88>"
      ]
     },
     "metadata": {},
     "output_type": "display_data"
    }
   ],
   "source": [
    "phis.Length_Of_Stay.astype(float).hist(bins=150)"
   ]
  },
  {
   "cell_type": "code",
   "execution_count": 14,
   "metadata": {
    "extensions": {
     "jupyter_dashboards": {
      "version": 1,
      "views": {
       "grid_default": {
        "col": 0,
        "height": 4,
        "hidden": false,
        "row": 35,
        "width": 4
       },
       "report_default": {
        "hidden": false
       }
      }
     }
    }
   },
   "outputs": [
    {
     "data": {
      "text/plain": [
       "N    3268565\n",
       "Y     113818\n",
       "Name: ICU_Flag, dtype: int64"
      ]
     },
     "execution_count": 14,
     "metadata": {},
     "output_type": "execute_result"
    }
   ],
   "source": [
    "phis['ICU_Flag'].value_counts()"
   ]
  },
  {
   "cell_type": "code",
   "execution_count": 15,
   "metadata": {},
   "outputs": [
    {
     "data": {
      "text/plain": [
       "Clinic Visit    1900374\n",
       "Inpatient        660128\n",
       "Amb Surg         587225\n",
       "Obs Unit         234656\n",
       "Name: Patient_Type_Title, dtype: int64"
      ]
     },
     "execution_count": 15,
     "metadata": {},
     "output_type": "execute_result"
    }
   ],
   "source": [
    "phis['Patient_Type_Title'].value_counts()"
   ]
  },
  {
   "cell_type": "code",
   "execution_count": 16,
   "metadata": {
    "extensions": {
     "jupyter_dashboards": {
      "version": 1,
      "views": {
       "grid_default": {
        "col": 0,
        "height": 35,
        "hidden": false,
        "row": 39,
        "width": 4
       },
       "report_default": {
        "hidden": false
       }
      }
     }
    }
   },
   "outputs": [
    {
     "data": {
      "text/plain": [
       "Dental caries, unspecified                                                  50643\n",
       "Hypertrophy of tonsils with hypertrophy of adenoids                         41779\n",
       "Encounter for antineoplastic chemotherapy                                   40280\n",
       "Single liveborn infant, delivered vaginally                                 36454\n",
       "Encounter for routine child health examination without abnormal findings    27032\n",
       "Single liveborn infant, delivered by cesarean                               19918\n",
       "Acute pharyngitis, unspecified                                              19146\n",
       "Obstructive sleep apnea (adult) (pediatric)                                 18416\n",
       "Otitis media, unspecified, bilateral                                        18151\n",
       "Feeding difficulties                                                        18057\n",
       "Constipation, unspecified                                                   17604\n",
       "Unspecified convulsions                                                     17181\n",
       "Type 1 diabetes mellitus with hyperglycemia                                 16811\n",
       "Hypertrophy of adenoids                                                     16539\n",
       "Acute bronchiolitis due to respiratory syncytial virus                      15778\n",
       "Autistic disorder                                                           15775\n",
       "Gastro-esophageal reflux disease without esophagitis                        15759\n",
       "Unspecified abdominal pain                                                  15469\n",
       "Acute upper respiratory infection, unspecified                              15375\n",
       "Encounter for immunization                                                  15206\n",
       "Name: Principal_Dx_Title_(ICD), dtype: int64"
      ]
     },
     "execution_count": 16,
     "metadata": {},
     "output_type": "execute_result"
    }
   ],
   "source": [
    "phis['Principal_Dx_Title_(ICD)'].value_counts()[:20]"
   ]
  },
  {
   "cell_type": "code",
   "execution_count": 17,
   "metadata": {
    "extensions": {
     "jupyter_dashboards": {
      "version": 1,
      "views": {
       "grid_default": {
        "col": 4,
        "height": 46,
        "hidden": false,
        "row": 45,
        "width": 4
       },
       "report_default": {
        "hidden": false
       }
      }
     }
    }
   },
   "outputs": [
    {
     "data": {
      "text/plain": [
       "No PX Title Available                                                                                           2624529\n",
       "Drainage of Left Middle Ear with Drainage Device, Open Approach                                                   27912\n",
       "Resection of Tonsils, External Approach                                                                           26564\n",
       "Resection of Prepuce, External Approach                                                                           24599\n",
       "Excision of Duodenum, Via Natural or Artificial Opening Endoscopic, Diagnostic                                    23742\n",
       "Drainage of Spinal Canal, Percutaneous Approach, Diagnostic                                                       18219\n",
       "Resection of Appendix, Percutaneous Endoscopic Approach                                                           17418\n",
       "Delivery of Products of Conception, External Approach                                                             17003\n",
       "Introduction of Serum, Toxoid and Vaccine into Muscle, Percutaneous Approach                                      14858\n",
       "Monitoring of Central Nervous Electrical Activity, External Approach                                              12725\n",
       "Introduction of Other Antineoplastic into Central Vein, Percutaneous Approach                                     12036\n",
       "Replacement of Lower Tooth, Multiple, with Synthetic Substitute, External Approach                                10735\n",
       "Extraction of Products of Conception, Low Cervical, Open Approach                                                  9898\n",
       "Insertion of Infusion Device into Superior Vena Cava, Percutaneous Approach                                        7804\n",
       "Destruction of Adenoids, External Approach                                                                         7050\n",
       "Respiratory Ventilation, Greater than 96 Consecutive Hours                                                         6892\n",
       "Resection of Adenoids, External Approach                                                                           6674\n",
       "Introduction of Nutritional Substance into Upper GI, Via Natural or Artificial Opening                             6631\n",
       "Introduction of Other Antineoplastic into Spinal Canal, Percutaneous Approach                                      6340\n",
       "Assistance with Respiratory Ventilation, Less than 24 Consecutive Hours, Continuous Positive Airway Pressure       5787\n",
       "Name: Principal_Px_Title_(ICD), dtype: int64"
      ]
     },
     "execution_count": 17,
     "metadata": {},
     "output_type": "execute_result"
    }
   ],
   "source": [
    "phis['Principal_Px_Title_(ICD)'].value_counts()[:20]"
   ]
  },
  {
   "cell_type": "code",
   "execution_count": 18,
   "metadata": {
    "extensions": {
     "jupyter_dashboards": {
      "version": 1,
      "views": {
       "grid_default": {
        "hidden": true
       },
       "report_default": {
        "hidden": true
       }
      }
     }
    }
   },
   "outputs": [],
   "source": [
    "#phis['Median_Household_Income'].value_counts()[0:20]"
   ]
  },
  {
   "cell_type": "code",
   "execution_count": 19,
   "metadata": {
    "extensions": {
     "jupyter_dashboards": {
      "version": 1,
      "views": {
       "grid_default": {
        "col": 8,
        "height": 13,
        "hidden": false,
        "row": 45,
        "width": 4
       },
       "report_default": {
        "hidden": false
       }
      }
     }
    }
   },
   "outputs": [
    {
     "data": {
      "text/plain": [
       "11845812011    372\n",
       "14154322011    372\n",
       "12453172011    369\n",
       "16992312011    366\n",
       "13615352011    366\n",
       "12772012011    366\n",
       "16430732011    364\n",
       "17472562011    358\n",
       "16900252011    344\n",
       "13979622011    337\n",
       "14437352011    327\n",
       "14186472011    322\n",
       "17489672011    278\n",
       "11356542011    267\n",
       "17397532011    262\n",
       "16513372011    260\n",
       "17666702011    237\n",
       "17214482011    225\n",
       "13862552011    204\n",
       "17525442011    191\n",
       "Name: Medical_Record_Number, dtype: int64"
      ]
     },
     "execution_count": 19,
     "metadata": {},
     "output_type": "execute_result"
    }
   ],
   "source": [
    "phis.Medical_Record_Number.value_counts()[0:20]"
   ]
  },
  {
   "cell_type": "code",
   "execution_count": 20,
   "metadata": {
    "extensions": {
     "jupyter_dashboards": {
      "version": 1,
      "views": {
       "grid_default": {
        "col": 8,
        "height": 13,
        "hidden": false,
        "row": 58,
        "width": 4
       },
       "report_default": {
        "hidden": false
       }
      }
     }
    }
   },
   "outputs": [
    {
     "data": {
      "text/plain": [
       "153820065    1\n",
       "149381841    1\n",
       "159506737    1\n",
       "156958932    1\n",
       "144984240    1\n",
       "144252565    1\n",
       "155888154    1\n",
       "161975989    1\n",
       "147960009    1\n",
       "144733641    1\n",
       "151345340    1\n",
       "151584647    1\n",
       "156998787    1\n",
       "148148586    1\n",
       "156992764    1\n",
       "150404067    1\n",
       "161944111    1\n",
       "158436145    1\n",
       "155836119    1\n",
       "153540666    1\n",
       "Name: Discharge_ID, dtype: int64"
      ]
     },
     "execution_count": 20,
     "metadata": {},
     "output_type": "execute_result"
    }
   ],
   "source": [
    "phis.Discharge_ID.value_counts()[0:20]"
   ]
  },
  {
   "cell_type": "code",
   "execution_count": 21,
   "metadata": {
    "extensions": {
     "jupyter_dashboards": {
      "version": 1,
      "views": {
       "grid_default": {
        "hidden": true
       },
       "report_default": {
        "hidden": true
       }
      }
     }
    }
   },
   "outputs": [
    {
     "data": {
      "text/plain": [
       "<pandas.core.groupby.DataFrameGroupBy object at 0x1c55f9d748>"
      ]
     },
     "execution_count": 21,
     "metadata": {},
     "output_type": "execute_result"
    }
   ],
   "source": [
    "phis.groupby(['Medical_Record_Number'])"
   ]
  },
  {
   "cell_type": "markdown",
   "metadata": {
    "extensions": {
     "jupyter_dashboards": {
      "version": 1,
      "views": {
       "grid_default": {
        "col": 8,
        "height": 4,
        "hidden": false,
        "row": 71,
        "width": 4
       },
       "report_default": {
        "hidden": false
       }
      }
     }
    }
   },
   "source": [
    "### Other files\n",
    "\n",
    "Remember we created a list of the files available at `./Data/` called `filenames`. Below you can read any of those files just calling them by their number on the list."
   ]
  },
  {
   "cell_type": "code",
   "execution_count": 26,
   "metadata": {},
   "outputs": [
    {
     "data": {
      "text/plain": [
       "['2016_APRDRGandCaseMixWeights.csv',\n",
       " '2016_CPT.csv',\n",
       " '2016_ClinicalSummary.csv',\n",
       " '2016_DailyCensus.csv',\n",
       " '2016_Diagnosis.csv',\n",
       " '2016_ImagingSummary.csv',\n",
       " '2016_PatientAbstract.csv',\n",
       " '2016_Procedure.csv',\n",
       " '2016_RCCBasedCost.csv',\n",
       " '2016_Readmit.csv',\n",
       " '2017_APRDRGandCaseMixWeights.csv',\n",
       " '2017_CPT.csv',\n",
       " '2017_ClinicalSummary.csv',\n",
       " '2017_DailyCensus.csv',\n",
       " '2017_Diagnosis.csv',\n",
       " '2017_ImagingSummary.csv',\n",
       " '2017_PatientAbstract.csv',\n",
       " '2017_Procedure.csv',\n",
       " '2017_RCCBasedCost.csv',\n",
       " '2017_Readmit.csv']"
      ]
     },
     "execution_count": 26,
     "metadata": {},
     "output_type": "execute_result"
    }
   ],
   "source": [
    "filenames"
   ]
  },
  {
   "cell_type": "code",
   "execution_count": 34,
   "metadata": {
    "extensions": {
     "jupyter_dashboards": {
      "version": 1,
      "views": {
       "grid_default": {
        "hidden": true
       },
       "report_default": {
        "hidden": true
       }
      }
     }
    }
   },
   "outputs": [
    {
     "name": "stdout",
     "output_type": "stream",
     "text": [
      "2016_RCCBasedCost.csv is open\n"
     ]
    }
   ],
   "source": [
    "\n",
    "filename2 = filenames[8]\n",
    "print(filename2+ ' is open')\n",
    "phis2 = pd.read_csv(addressdata+filename2, dtype=object)"
   ]
  },
  {
   "cell_type": "code",
   "execution_count": 29,
   "metadata": {
    "extensions": {
     "jupyter_dashboards": {
      "version": 1,
      "views": {
       "grid_default": {
        "col": 0,
        "height": 5,
        "hidden": false,
        "row": 74,
        "width": 4
       },
       "report_default": {
        "hidden": false
       }
      }
     }
    }
   },
   "outputs": [
    {
     "data": {
      "text/plain": [
       "['Medical_Record_Number',\n",
       " 'Discharge_ID',\n",
       " 'Billing_Number',\n",
       " 'Discharge_Date',\n",
       " 'Adj_Total_Costs_(RCC_Based)',\n",
       " 'Total_Costs_(RCC_Based)']"
      ]
     },
     "execution_count": 29,
     "metadata": {},
     "output_type": "execute_result"
    }
   ],
   "source": [
    "list(phis2.columns)"
   ]
  },
  {
   "cell_type": "code",
   "execution_count": 30,
   "metadata": {
    "extensions": {
     "jupyter_dashboards": {
      "version": 1,
      "views": {
       "grid_default": {
        "col": 0,
        "height": 7,
        "hidden": false,
        "row": 91,
        "width": 11
       },
       "report_default": {
        "hidden": false
       }
      }
     }
    }
   },
   "outputs": [
    {
     "data": {
      "text/html": [
       "<div>\n",
       "<style scoped>\n",
       "    .dataframe tbody tr th:only-of-type {\n",
       "        vertical-align: middle;\n",
       "    }\n",
       "\n",
       "    .dataframe tbody tr th {\n",
       "        vertical-align: top;\n",
       "    }\n",
       "\n",
       "    .dataframe thead th {\n",
       "        text-align: right;\n",
       "    }\n",
       "</style>\n",
       "<table border=\"1\" class=\"dataframe\">\n",
       "  <thead>\n",
       "    <tr style=\"text-align: right;\">\n",
       "      <th></th>\n",
       "      <th>Medical_Record_Number</th>\n",
       "      <th>Discharge_ID</th>\n",
       "      <th>Billing_Number</th>\n",
       "      <th>Discharge_Date</th>\n",
       "      <th>Adj_Total_Costs_(RCC_Based)</th>\n",
       "      <th>Total_Costs_(RCC_Based)</th>\n",
       "    </tr>\n",
       "  </thead>\n",
       "  <tbody>\n",
       "    <tr>\n",
       "      <th>0</th>\n",
       "      <td>4230422039</td>\n",
       "      <td>120841667</td>\n",
       "      <td>E032025137</td>\n",
       "      <td>01/05/2016</td>\n",
       "      <td>0</td>\n",
       "      <td>0</td>\n",
       "    </tr>\n",
       "    <tr>\n",
       "      <th>1</th>\n",
       "      <td>6495422039</td>\n",
       "      <td>120841661</td>\n",
       "      <td>E032025064</td>\n",
       "      <td>01/05/2016</td>\n",
       "      <td>0</td>\n",
       "      <td>0</td>\n",
       "    </tr>\n",
       "    <tr>\n",
       "      <th>2</th>\n",
       "      <td>4911872039</td>\n",
       "      <td>120841567</td>\n",
       "      <td>E032023011</td>\n",
       "      <td>01/05/2016</td>\n",
       "      <td>0</td>\n",
       "      <td>0</td>\n",
       "    </tr>\n",
       "    <tr>\n",
       "      <th>3</th>\n",
       "      <td>6729602039</td>\n",
       "      <td>120841617</td>\n",
       "      <td>E032024181</td>\n",
       "      <td>01/05/2016</td>\n",
       "      <td>0</td>\n",
       "      <td>0</td>\n",
       "    </tr>\n",
       "    <tr>\n",
       "      <th>4</th>\n",
       "      <td>6797102039</td>\n",
       "      <td>120841446</td>\n",
       "      <td>E032020783</td>\n",
       "      <td>01/05/2016</td>\n",
       "      <td>0</td>\n",
       "      <td>0</td>\n",
       "    </tr>\n",
       "  </tbody>\n",
       "</table>\n",
       "</div>"
      ],
      "text/plain": [
       "  Medical_Record_Number Discharge_ID Billing_Number Discharge_Date  \\\n",
       "0            4230422039    120841667     E032025137     01/05/2016   \n",
       "1            6495422039    120841661     E032025064     01/05/2016   \n",
       "2            4911872039    120841567     E032023011     01/05/2016   \n",
       "3            6729602039    120841617     E032024181     01/05/2016   \n",
       "4            6797102039    120841446     E032020783     01/05/2016   \n",
       "\n",
       "  Adj_Total_Costs_(RCC_Based) Total_Costs_(RCC_Based)  \n",
       "0                           0                       0  \n",
       "1                           0                       0  \n",
       "2                           0                       0  \n",
       "3                           0                       0  \n",
       "4                           0                       0  "
      ]
     },
     "execution_count": 30,
     "metadata": {},
     "output_type": "execute_result"
    }
   ],
   "source": [
    "phis2.head()\n",
    "#phis.Dx_Number.value_counts()"
   ]
  },
  {
   "cell_type": "code",
   "execution_count": null,
   "metadata": {
    "extensions": {
     "jupyter_dashboards": {
      "version": 1,
      "views": {
       "grid_default": {
        "col": 8,
        "height": 13,
        "hidden": false,
        "row": 75,
        "width": 4
       },
       "report_default": {
        "hidden": false
       }
      }
     }
    }
   },
   "outputs": [],
   "source": [
    "phis2.Medical_Record_Number.value_counts()[0:20]"
   ]
  },
  {
   "cell_type": "code",
   "execution_count": null,
   "metadata": {
    "extensions": {
     "jupyter_dashboards": {
      "version": 1,
      "views": {
       "grid_default": {
        "col": 0,
        "height": 13,
        "hidden": false,
        "row": 98,
        "width": 4
       },
       "report_default": {
        "hidden": false
       }
      }
     }
    }
   },
   "outputs": [],
   "source": [
    "phis2.Discharge_ID.value_counts()[0:20]"
   ]
  },
  {
   "cell_type": "code",
   "execution_count": null,
   "metadata": {
    "extensions": {
     "jupyter_dashboards": {
      "version": 1,
      "views": {
       "grid_default": {
        "col": 0,
        "height": 6,
        "hidden": false,
        "row": 111,
        "width": 11
       },
       "report_default": {
        "hidden": false
       }
      }
     }
    }
   },
   "outputs": [],
   "source": [
    "phis2[phis2.Billing_Number == '4906931']"
   ]
  },
  {
   "cell_type": "code",
   "execution_count": null,
   "metadata": {
    "extensions": {
     "jupyter_dashboards": {
      "version": 1,
      "views": {
       "grid_default": {
        "hidden": true
       },
       "report_default": {
        "hidden": true
       }
      }
     }
    }
   },
   "outputs": [],
   "source": []
  }
 ],
 "metadata": {
  "extensions": {
   "jupyter_dashboards": {
    "activeView": "grid_default",
    "version": 1,
    "views": {
     "grid_default": {
      "cellMargin": 10,
      "defaultCellHeight": 20,
      "maxColumns": 12,
      "name": "grid",
      "type": "grid"
     },
     "report_default": {
      "name": "report",
      "type": "report"
     }
    }
   }
  },
  "kernelspec": {
   "display_name": "Python 3",
   "language": "python",
   "name": "python3"
  },
  "language_info": {
   "codemirror_mode": {
    "name": "ipython",
    "version": 3
   },
   "file_extension": ".py",
   "mimetype": "text/x-python",
   "name": "python",
   "nbconvert_exporter": "python",
   "pygments_lexer": "ipython3",
   "version": "3.6.4"
  }
 },
 "nbformat": 4,
 "nbformat_minor": 2
}
